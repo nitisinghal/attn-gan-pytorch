{
  "nbformat": 4,
  "nbformat_minor": 0,
  "metadata": {
    "colab": {
      "name": "AttnGANTest.ipynb",
      "provenance": [],
      "authorship_tag": "ABX9TyMwyaUDhI27MJZ76pK8IyjS",
      "include_colab_link": true
    },
    "kernelspec": {
      "name": "python3",
      "display_name": "Python 3"
    },
    "accelerator": "GPU"
  },
  "cells": [
    {
      "cell_type": "markdown",
      "metadata": {
        "id": "view-in-github",
        "colab_type": "text"
      },
      "source": [
        "<a href=\"https://colab.research.google.com/github/nitisinghal/attn-gan-pytorch/blob/main/AttnGANTest.ipynb\" target=\"_parent\"><img src=\"https://colab.research.google.com/assets/colab-badge.svg\" alt=\"Open In Colab\"/></a>"
      ]
    },
    {
      "cell_type": "code",
      "metadata": {
        "colab": {
          "base_uri": "https://localhost:8080/"
        },
        "id": "8oJzF2B_awiL",
        "outputId": "6cc96de5-0908-499a-c7f7-b82e31b16fa5"
      },
      "source": [
        "!git clone https://github.com/taoxugit/AttnGAN.git"
      ],
      "execution_count": null,
      "outputs": [
        {
          "output_type": "stream",
          "text": [
            "Cloning into 'AttnGAN'...\n",
            "remote: Enumerating objects: 291, done.\u001b[K\n",
            "remote: Total 291 (delta 0), reused 0 (delta 0), pack-reused 291\u001b[K\n",
            "Receiving objects: 100% (291/291), 36.76 MiB | 39.00 MiB/s, done.\n",
            "Resolving deltas: 100% (167/167), done.\n"
          ],
          "name": "stdout"
        }
      ]
    },
    {
      "cell_type": "code",
      "metadata": {
        "colab": {
          "base_uri": "https://localhost:8080/"
        },
        "id": "0GOBZrcHbR_u",
        "outputId": "d594a289-c4d4-45e6-e4ef-9820379f70fc"
      },
      "source": [
        "!pip install python-dateutil\r\n",
        "!pip install easydict\r\n",
        "!pip install pandas\r\n",
        "!pip install torchfile\r\n",
        "!pip install nltk\r\n",
        "!pip install scikit-image"
      ],
      "execution_count": null,
      "outputs": [
        {
          "output_type": "stream",
          "text": [
            "Requirement already satisfied: python-dateutil in /usr/local/lib/python3.6/dist-packages (2.8.1)\n",
            "Requirement already satisfied: six>=1.5 in /usr/local/lib/python3.6/dist-packages (from python-dateutil) (1.15.0)\n",
            "Requirement already satisfied: easydict in /usr/local/lib/python3.6/dist-packages (1.9)\n",
            "Requirement already satisfied: pandas in /usr/local/lib/python3.6/dist-packages (1.1.5)\n",
            "Requirement already satisfied: pytz>=2017.2 in /usr/local/lib/python3.6/dist-packages (from pandas) (2018.9)\n",
            "Requirement already satisfied: numpy>=1.15.4 in /usr/local/lib/python3.6/dist-packages (from pandas) (1.19.5)\n",
            "Requirement already satisfied: python-dateutil>=2.7.3 in /usr/local/lib/python3.6/dist-packages (from pandas) (2.8.1)\n",
            "Requirement already satisfied: six>=1.5 in /usr/local/lib/python3.6/dist-packages (from python-dateutil>=2.7.3->pandas) (1.15.0)\n",
            "Requirement already satisfied: torchfile in /usr/local/lib/python3.6/dist-packages (0.1.0)\n",
            "Requirement already satisfied: nltk in /usr/local/lib/python3.6/dist-packages (3.2.5)\n",
            "Requirement already satisfied: six in /usr/local/lib/python3.6/dist-packages (from nltk) (1.15.0)\n",
            "Requirement already satisfied: scikit-image in /usr/local/lib/python3.6/dist-packages (0.16.2)\n",
            "Requirement already satisfied: imageio>=2.3.0 in /usr/local/lib/python3.6/dist-packages (from scikit-image) (2.4.1)\n",
            "Requirement already satisfied: PyWavelets>=0.4.0 in /usr/local/lib/python3.6/dist-packages (from scikit-image) (1.1.1)\n",
            "Requirement already satisfied: matplotlib!=3.0.0,>=2.0.0 in /usr/local/lib/python3.6/dist-packages (from scikit-image) (3.2.2)\n",
            "Requirement already satisfied: scipy>=0.19.0 in /usr/local/lib/python3.6/dist-packages (from scikit-image) (1.4.1)\n",
            "Requirement already satisfied: pillow>=4.3.0 in /usr/local/lib/python3.6/dist-packages (from scikit-image) (7.0.0)\n",
            "Requirement already satisfied: networkx>=2.0 in /usr/local/lib/python3.6/dist-packages (from scikit-image) (2.5)\n",
            "Requirement already satisfied: numpy in /usr/local/lib/python3.6/dist-packages (from imageio>=2.3.0->scikit-image) (1.19.5)\n",
            "Requirement already satisfied: kiwisolver>=1.0.1 in /usr/local/lib/python3.6/dist-packages (from matplotlib!=3.0.0,>=2.0.0->scikit-image) (1.3.1)\n",
            "Requirement already satisfied: cycler>=0.10 in /usr/local/lib/python3.6/dist-packages (from matplotlib!=3.0.0,>=2.0.0->scikit-image) (0.10.0)\n",
            "Requirement already satisfied: python-dateutil>=2.1 in /usr/local/lib/python3.6/dist-packages (from matplotlib!=3.0.0,>=2.0.0->scikit-image) (2.8.1)\n",
            "Requirement already satisfied: pyparsing!=2.0.4,!=2.1.2,!=2.1.6,>=2.0.1 in /usr/local/lib/python3.6/dist-packages (from matplotlib!=3.0.0,>=2.0.0->scikit-image) (2.4.7)\n",
            "Requirement already satisfied: decorator>=4.3.0 in /usr/local/lib/python3.6/dist-packages (from networkx>=2.0->scikit-image) (4.4.2)\n",
            "Requirement already satisfied: six in /usr/local/lib/python3.6/dist-packages (from cycler>=0.10->matplotlib!=3.0.0,>=2.0.0->scikit-image) (1.15.0)\n"
          ],
          "name": "stdout"
        }
      ]
    },
    {
      "cell_type": "code",
      "metadata": {
        "colab": {
          "base_uri": "https://localhost:8080/"
        },
        "id": "IgsuZGtBbYCw",
        "outputId": "ffc5541e-4087-43aa-8502-22bf691184fa"
      },
      "source": [
        "!wget --load-cookies /tmp/cookies.txt \"https://docs.google.com/uc?export=download&confirm=$(wget --quiet --save-cookies /tmp/cookies.txt --keep-session-cookies --no-check-certificate 'https://docs.google.com/uc?export=download&id=1zIrXCE9F6yfbEJIbNP5-YrEe2pZcPSGJ' -O- | sed -rn 's/.*confirm=([0-9A-Za-z_]+).*/\\1\\n/p')&id=1zIrXCE9F6yfbEJIbNP5-YrEe2pZcPSGJ\" -O coco.zip && rm -rf /tmp/cookies.txt\r\n",
        "!unzip coco.zip"
      ],
      "execution_count": null,
      "outputs": [
        {
          "output_type": "stream",
          "text": [
            "--2021-01-15 14:42:45--  https://docs.google.com/uc?export=download&confirm=DP8V&id=1zIrXCE9F6yfbEJIbNP5-YrEe2pZcPSGJ\n",
            "Resolving docs.google.com (docs.google.com)... 74.125.195.100, 74.125.195.139, 74.125.195.138, ...\n",
            "Connecting to docs.google.com (docs.google.com)|74.125.195.100|:443... connected.\n",
            "HTTP request sent, awaiting response... 302 Moved Temporarily\n",
            "Location: https://doc-0k-6s-docs.googleusercontent.com/docs/securesc/7hiu5v6fqcn0ji0feemkagmcg1pln3mu/s0je56g80pcoqvcqntrdp5f7adlr5qq1/1610721750000/09657060183789739732/15391020111845520543Z/1zIrXCE9F6yfbEJIbNP5-YrEe2pZcPSGJ?e=download [following]\n",
            "--2021-01-15 14:42:45--  https://doc-0k-6s-docs.googleusercontent.com/docs/securesc/7hiu5v6fqcn0ji0feemkagmcg1pln3mu/s0je56g80pcoqvcqntrdp5f7adlr5qq1/1610721750000/09657060183789739732/15391020111845520543Z/1zIrXCE9F6yfbEJIbNP5-YrEe2pZcPSGJ?e=download\n",
            "Resolving doc-0k-6s-docs.googleusercontent.com (doc-0k-6s-docs.googleusercontent.com)... 74.125.28.132, 2607:f8b0:400e:c04::84\n",
            "Connecting to doc-0k-6s-docs.googleusercontent.com (doc-0k-6s-docs.googleusercontent.com)|74.125.28.132|:443... connected.\n",
            "HTTP request sent, awaiting response... 302 Found\n",
            "Location: https://docs.google.com/nonceSigner?nonce=lk3eeku2190t4&continue=https://doc-0k-6s-docs.googleusercontent.com/docs/securesc/7hiu5v6fqcn0ji0feemkagmcg1pln3mu/s0je56g80pcoqvcqntrdp5f7adlr5qq1/1610721750000/09657060183789739732/15391020111845520543Z/1zIrXCE9F6yfbEJIbNP5-YrEe2pZcPSGJ?e%3Ddownload&hash=gujrsm4vil19abb0bsn2653o4nahoq2d [following]\n",
            "--2021-01-15 14:42:45--  https://docs.google.com/nonceSigner?nonce=lk3eeku2190t4&continue=https://doc-0k-6s-docs.googleusercontent.com/docs/securesc/7hiu5v6fqcn0ji0feemkagmcg1pln3mu/s0je56g80pcoqvcqntrdp5f7adlr5qq1/1610721750000/09657060183789739732/15391020111845520543Z/1zIrXCE9F6yfbEJIbNP5-YrEe2pZcPSGJ?e%3Ddownload&hash=gujrsm4vil19abb0bsn2653o4nahoq2d\n",
            "Connecting to docs.google.com (docs.google.com)|74.125.195.100|:443... connected.\n",
            "HTTP request sent, awaiting response... 302 Found\n",
            "Location: https://doc-0k-6s-docs.googleusercontent.com/docs/securesc/7hiu5v6fqcn0ji0feemkagmcg1pln3mu/s0je56g80pcoqvcqntrdp5f7adlr5qq1/1610721750000/09657060183789739732/15391020111845520543Z/1zIrXCE9F6yfbEJIbNP5-YrEe2pZcPSGJ?e=download&nonce=lk3eeku2190t4&user=15391020111845520543Z&hash=5t201qn4o5i57n1lesqpthov4cfr3rd5 [following]\n",
            "--2021-01-15 14:42:45--  https://doc-0k-6s-docs.googleusercontent.com/docs/securesc/7hiu5v6fqcn0ji0feemkagmcg1pln3mu/s0je56g80pcoqvcqntrdp5f7adlr5qq1/1610721750000/09657060183789739732/15391020111845520543Z/1zIrXCE9F6yfbEJIbNP5-YrEe2pZcPSGJ?e=download&nonce=lk3eeku2190t4&user=15391020111845520543Z&hash=5t201qn4o5i57n1lesqpthov4cfr3rd5\n",
            "Connecting to doc-0k-6s-docs.googleusercontent.com (doc-0k-6s-docs.googleusercontent.com)|74.125.28.132|:443... connected.\n",
            "HTTP request sent, awaiting response... 200 OK\n",
            "Length: unspecified [application/zip]\n",
            "Saving to: ‘coco.zip’\n",
            "\n",
            "coco.zip                [     <=>            ] 110.45M   109MB/s    in 1.0s    \n",
            "\n",
            "2021-01-15 14:42:47 (109 MB/s) - ‘coco.zip’ saved [115811251]\n",
            "\n",
            "Archive:  coco.zip\n",
            "   creating: coco/\n",
            "  inflating: coco/image_encoder100.pth  \n",
            "  inflating: coco/text_encoder100.pth  \n"
          ],
          "name": "stdout"
        }
      ]
    },
    {
      "cell_type": "code",
      "metadata": {
        "colab": {
          "base_uri": "https://localhost:8080/"
        },
        "id": "mdKwhFLUbj7u",
        "outputId": "22a263f8-94d2-47aa-e032-ebb70aef5861"
      },
      "source": [
        "!wget --load-cookies /tmp/cookies.txt \"https://docs.google.com/uc?export=download&confirm=$(wget --quiet --save-cookies /tmp/cookies.txt --keep-session-cookies --no-check-certificate 'https://docs.google.com/uc?export=download&id=1i9Xkg9nU74RAvkcqKE-rJYhjvzKAMnCi' -O- | sed -rn 's/.*confirm=([0-9A-Za-z_]+).*/\\1\\n/p')&id=1i9Xkg9nU74RAvkcqKE-rJYhjvzKAMnCi\" -O coco_AttnGAN2.pth && rm -rf /tmp/cookies.txt"
      ],
      "execution_count": null,
      "outputs": [
        {
          "output_type": "stream",
          "text": [
            "--2021-01-15 14:42:55--  https://docs.google.com/uc?export=download&confirm=&id=1i9Xkg9nU74RAvkcqKE-rJYhjvzKAMnCi\n",
            "Resolving docs.google.com (docs.google.com)... 74.125.195.113, 74.125.195.100, 74.125.195.102, ...\n",
            "Connecting to docs.google.com (docs.google.com)|74.125.195.113|:443... connected.\n",
            "HTTP request sent, awaiting response... 302 Moved Temporarily\n",
            "Location: https://doc-00-0c-docs.googleusercontent.com/docs/securesc/1rf06672asep0la3hfi4vdgv6754v5hs/ch1jel60oeue1ld46mcumbpr2iomf036/1610721750000/09657060183789739732/05396628945041116030Z/1i9Xkg9nU74RAvkcqKE-rJYhjvzKAMnCi?e=download [following]\n",
            "--2021-01-15 14:42:56--  https://doc-00-0c-docs.googleusercontent.com/docs/securesc/1rf06672asep0la3hfi4vdgv6754v5hs/ch1jel60oeue1ld46mcumbpr2iomf036/1610721750000/09657060183789739732/05396628945041116030Z/1i9Xkg9nU74RAvkcqKE-rJYhjvzKAMnCi?e=download\n",
            "Resolving doc-00-0c-docs.googleusercontent.com (doc-00-0c-docs.googleusercontent.com)... 74.125.28.132, 2607:f8b0:400e:c04::84\n",
            "Connecting to doc-00-0c-docs.googleusercontent.com (doc-00-0c-docs.googleusercontent.com)|74.125.28.132|:443... connected.\n",
            "HTTP request sent, awaiting response... 302 Found\n",
            "Location: https://docs.google.com/nonceSigner?nonce=189tj0286r4ei&continue=https://doc-00-0c-docs.googleusercontent.com/docs/securesc/1rf06672asep0la3hfi4vdgv6754v5hs/ch1jel60oeue1ld46mcumbpr2iomf036/1610721750000/09657060183789739732/05396628945041116030Z/1i9Xkg9nU74RAvkcqKE-rJYhjvzKAMnCi?e%3Ddownload&hash=8edf78puj7l9mbj4l1vrt5cdkg7jqoau [following]\n",
            "--2021-01-15 14:42:56--  https://docs.google.com/nonceSigner?nonce=189tj0286r4ei&continue=https://doc-00-0c-docs.googleusercontent.com/docs/securesc/1rf06672asep0la3hfi4vdgv6754v5hs/ch1jel60oeue1ld46mcumbpr2iomf036/1610721750000/09657060183789739732/05396628945041116030Z/1i9Xkg9nU74RAvkcqKE-rJYhjvzKAMnCi?e%3Ddownload&hash=8edf78puj7l9mbj4l1vrt5cdkg7jqoau\n",
            "Connecting to docs.google.com (docs.google.com)|74.125.195.113|:443... connected.\n",
            "HTTP request sent, awaiting response... 302 Found\n",
            "Location: https://doc-00-0c-docs.googleusercontent.com/docs/securesc/1rf06672asep0la3hfi4vdgv6754v5hs/ch1jel60oeue1ld46mcumbpr2iomf036/1610721750000/09657060183789739732/05396628945041116030Z/1i9Xkg9nU74RAvkcqKE-rJYhjvzKAMnCi?e=download&nonce=189tj0286r4ei&user=05396628945041116030Z&hash=u67c18eqm17qip14fi2pdv5vv8snm835 [following]\n",
            "--2021-01-15 14:42:56--  https://doc-00-0c-docs.googleusercontent.com/docs/securesc/1rf06672asep0la3hfi4vdgv6754v5hs/ch1jel60oeue1ld46mcumbpr2iomf036/1610721750000/09657060183789739732/05396628945041116030Z/1i9Xkg9nU74RAvkcqKE-rJYhjvzKAMnCi?e=download&nonce=189tj0286r4ei&user=05396628945041116030Z&hash=u67c18eqm17qip14fi2pdv5vv8snm835\n",
            "Connecting to doc-00-0c-docs.googleusercontent.com (doc-00-0c-docs.googleusercontent.com)|74.125.28.132|:443... connected.\n",
            "HTTP request sent, awaiting response... 200 OK\n",
            "Length: unspecified [application/octet-stream]\n",
            "Saving to: ‘coco_AttnGAN2.pth’\n",
            "\n",
            "coco_AttnGAN2.pth       [ <=>                ]  52.91M   297MB/s    in 0.2s    \n",
            "\n",
            "2021-01-15 14:42:56 (297 MB/s) - ‘coco_AttnGAN2.pth’ saved [55482326]\n",
            "\n"
          ],
          "name": "stdout"
        }
      ]
    },
    {
      "cell_type": "code",
      "metadata": {
        "colab": {
          "base_uri": "https://localhost:8080/"
        },
        "id": "QlTsVPmdbpck",
        "outputId": "1e7621e9-c65a-4f9d-d814-80e9909f681a"
      },
      "source": [
        "!wget --load-cookies /tmp/cookies.txt \"https://docs.google.com/uc?export=download&confirm=$(wget --quiet --save-cookies /tmp/cookies.txt --keep-session-cookies --no-check-certificate 'https://docs.google.com/uc?export=download&id=1rSnbIGNDGZeHlsUlLdahj0RJ9oo6lgH9' -O- | sed -rn 's/.*confirm=([0-9A-Za-z_]+).*/\\1\\n/p')&id=1rSnbIGNDGZeHlsUlLdahj0RJ9oo6lgH9\" -O coco.zip && rm -rf /tmp/cookies.txt\r\n",
        "!unzip coco.zip"
      ],
      "execution_count": null,
      "outputs": [
        {
          "output_type": "stream",
          "text": [
            "--2021-01-15 14:24:14--  https://docs.google.com/uc?export=download&confirm=T4ci&id=1rSnbIGNDGZeHlsUlLdahj0RJ9oo6lgH9\n",
            "Resolving docs.google.com (docs.google.com)... 108.177.127.100, 108.177.127.113, 108.177.127.101, ...\n",
            "Connecting to docs.google.com (docs.google.com)|108.177.127.100|:443... connected.\n",
            "HTTP request sent, awaiting response... 302 Moved Temporarily\n",
            "Location: https://doc-0s-84-docs.googleusercontent.com/docs/securesc/na4p1krhkft9iq3h0esct0fgdvg9j8fi/gj0cs58qemd3n8du781fsboftt29hp3k/1610720625000/09657060183789739732/14662917604469939122Z/1rSnbIGNDGZeHlsUlLdahj0RJ9oo6lgH9?e=download [following]\n",
            "--2021-01-15 14:24:15--  https://doc-0s-84-docs.googleusercontent.com/docs/securesc/na4p1krhkft9iq3h0esct0fgdvg9j8fi/gj0cs58qemd3n8du781fsboftt29hp3k/1610720625000/09657060183789739732/14662917604469939122Z/1rSnbIGNDGZeHlsUlLdahj0RJ9oo6lgH9?e=download\n",
            "Resolving doc-0s-84-docs.googleusercontent.com (doc-0s-84-docs.googleusercontent.com)... 173.194.69.132, 2a00:1450:4013:c04::84\n",
            "Connecting to doc-0s-84-docs.googleusercontent.com (doc-0s-84-docs.googleusercontent.com)|173.194.69.132|:443... connected.\n",
            "HTTP request sent, awaiting response... 302 Found\n",
            "Location: https://docs.google.com/nonceSigner?nonce=0jh0016252d0a&continue=https://doc-0s-84-docs.googleusercontent.com/docs/securesc/na4p1krhkft9iq3h0esct0fgdvg9j8fi/gj0cs58qemd3n8du781fsboftt29hp3k/1610720625000/09657060183789739732/14662917604469939122Z/1rSnbIGNDGZeHlsUlLdahj0RJ9oo6lgH9?e%3Ddownload&hash=gg24u0lgkeflg489qa9likmp1aqiblsp [following]\n",
            "--2021-01-15 14:24:15--  https://docs.google.com/nonceSigner?nonce=0jh0016252d0a&continue=https://doc-0s-84-docs.googleusercontent.com/docs/securesc/na4p1krhkft9iq3h0esct0fgdvg9j8fi/gj0cs58qemd3n8du781fsboftt29hp3k/1610720625000/09657060183789739732/14662917604469939122Z/1rSnbIGNDGZeHlsUlLdahj0RJ9oo6lgH9?e%3Ddownload&hash=gg24u0lgkeflg489qa9likmp1aqiblsp\n",
            "Connecting to docs.google.com (docs.google.com)|108.177.127.100|:443... connected.\n",
            "HTTP request sent, awaiting response... 302 Found\n",
            "Location: https://doc-0s-84-docs.googleusercontent.com/docs/securesc/na4p1krhkft9iq3h0esct0fgdvg9j8fi/gj0cs58qemd3n8du781fsboftt29hp3k/1610720625000/09657060183789739732/14662917604469939122Z/1rSnbIGNDGZeHlsUlLdahj0RJ9oo6lgH9?e=download&nonce=0jh0016252d0a&user=14662917604469939122Z&hash=50r36n7sed47rrf9nlu6l7ibs00ebuud [following]\n",
            "--2021-01-15 14:24:15--  https://doc-0s-84-docs.googleusercontent.com/docs/securesc/na4p1krhkft9iq3h0esct0fgdvg9j8fi/gj0cs58qemd3n8du781fsboftt29hp3k/1610720625000/09657060183789739732/14662917604469939122Z/1rSnbIGNDGZeHlsUlLdahj0RJ9oo6lgH9?e=download&nonce=0jh0016252d0a&user=14662917604469939122Z&hash=50r36n7sed47rrf9nlu6l7ibs00ebuud\n",
            "Connecting to doc-0s-84-docs.googleusercontent.com (doc-0s-84-docs.googleusercontent.com)|173.194.69.132|:443... connected.\n",
            "HTTP request sent, awaiting response... 200 OK\n",
            "Length: unspecified [application/zip]\n",
            "Saving to: ‘coco.zip’\n",
            "\n",
            "coco.zip                [   <=>              ]  31.72M  58.3MB/s    in 0.5s    \n",
            "\n",
            "2021-01-15 14:24:16 (58.3 MB/s) - ‘coco.zip’ saved [33261945]\n",
            "\n",
            "Archive:  coco.zip\n",
            "  inflating: coco/.DS_Store          \n",
            "   creating: __MACOSX/\n",
            "   creating: __MACOSX/coco/\n",
            "  inflating: __MACOSX/coco/._.DS_Store  \n",
            "  inflating: coco/captions.pickle    \n",
            "  inflating: coco/example_captions.txt  \n",
            "  inflating: __MACOSX/coco/._example_captions.txt  \n",
            "  inflating: coco/example_filenames.txt  \n",
            "  inflating: __MACOSX/coco/._example_filenames.txt  \n",
            "  inflating: coco/interpolate_captions.txt  \n",
            "  inflating: coco/readme.txt         \n",
            "  inflating: __MACOSX/coco/._readme.txt  \n",
            "   creating: coco/test/\n",
            "  inflating: coco/test/.DS_Store     \n",
            "   creating: __MACOSX/coco/test/\n",
            "  inflating: __MACOSX/coco/test/._.DS_Store  \n",
            "  inflating: coco/test/filenames.pickle  \n",
            "   creating: coco/train/\n",
            "  inflating: coco/train/.DS_Store    \n",
            "   creating: __MACOSX/coco/train/\n",
            "  inflating: __MACOSX/coco/train/._.DS_Store  \n",
            "  inflating: coco/train/filenames.pickle  \n",
            "  inflating: coco/train2014-text.zip  \n",
            "  inflating: coco/val2014-text.zip   \n"
          ],
          "name": "stdout"
        }
      ]
    },
    {
      "cell_type": "code",
      "metadata": {
        "colab": {
          "base_uri": "https://localhost:8080/"
        },
        "id": "JUwDGsXtcBDk",
        "outputId": "b4f60291-e24d-4841-c23c-4014d76778ed"
      },
      "source": [
        "!python /content/AttnGAN/code/main.py --cfg /content/AttnGAN/code/cfg/eval_coco.yml --gpu 0"
      ],
      "execution_count": null,
      "outputs": [
        {
          "output_type": "stream",
          "text": [
            "Traceback (most recent call last):\n",
            "  File \"/content/AttnGAN/code/main.py\", line 89, in <module>\n",
            "    cfg_from_file(args.cfg_file)\n",
            "  File \"/content/AttnGAN/code/miscc/config.py\", line 105, in cfg_from_file\n",
            "    _merge_a_into_b(yaml_cfg, __C)\n",
            "  File \"/content/AttnGAN/code/miscc/config.py\", line 73, in _merge_a_into_b\n",
            "    for k, v in a.iteritems():\n",
            "AttributeError: 'EasyDict' object has no attribute 'iteritems'\n"
          ],
          "name": "stdout"
        }
      ]
    }
  ]
}